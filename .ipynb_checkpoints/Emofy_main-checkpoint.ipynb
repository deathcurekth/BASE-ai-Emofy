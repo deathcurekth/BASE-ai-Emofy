{
 "cells": [
  {
   "cell_type": "code",
   "execution_count": 1,
   "metadata": {},
   "outputs": [],
   "source": [
    "import pandas as pd\n",
    "import numpy as np\n",
    "import re"
   ]
  },
  {
   "cell_type": "code",
   "execution_count": 2,
   "metadata": {},
   "outputs": [],
   "source": [
    "#define function to load dataset using pandas\n",
    "def load_dataset(path):\n",
    "    data = pd.read_csv(path, header = 0, nrows = m, engine = 'python')\n",
    "    #convert dataset to array\n",
    "    data_array = np.asarray(data)\n",
    "    #seperate the input and labels\n",
    "    X = data_array[:,1]\n",
    "    Y = data_array[:,2]\n",
    "    print(\"Done! loaded {} data\".format(m))\n",
    "    return X,Y"
   ]
  },
  {
   "cell_type": "code",
   "execution_count": 3,
   "metadata": {},
   "outputs": [
    {
     "name": "stdout",
     "output_type": "stream",
     "text": [
      "Done! loaded 400 data\n"
     ]
    }
   ],
   "source": [
    "#load the dataset\n",
    "\n",
    "m = 400 #number of data\n",
    "path = 'Dataset/Emofy_data.csv'\n",
    "\n",
    "X,Y = load_dataset(path)"
   ]
  },
  {
   "cell_type": "code",
   "execution_count": 4,
   "metadata": {},
   "outputs": [
    {
     "name": "stdout",
     "output_type": "stream",
     "text": [
      "X shape : (400, 1)\n",
      "Y shape : (400, 1)\n",
      "Example of an input : ['The food is so delicious']\n"
     ]
    }
   ],
   "source": [
    "#prevents rank 1 matrix\n",
    "X = X.reshape(m,1)\n",
    "Y = Y.reshape(m,1)\n",
    "\n",
    "#Checking the dimension and data\n",
    "print(\"X shape : \"+str(X.shape))\n",
    "print(\"Y shape : \"+str(Y.shape))\n",
    "\n",
    "index = 10\n",
    "print(\"Example of an input : \"+str(X[index]))"
   ]
  },
  {
   "cell_type": "code",
   "execution_count": 5,
   "metadata": {},
   "outputs": [],
   "source": [
    "#define the function to shuffle the X and Y\n",
    "def shuffle(X,Y):\n",
    "    temp = np.hstack((X,Y))\n",
    "    np.random.shuffle(temp)\n",
    "    X = temp[:,0]\n",
    "    Y = temp[:,1]\n",
    "    return X,Y"
   ]
  },
  {
   "cell_type": "code",
   "execution_count": 6,
   "metadata": {},
   "outputs": [],
   "source": [
    "#shuffle X and Y\n",
    "X_shuffle, Y_shuffle = shuffle(X,Y)"
   ]
  },
  {
   "cell_type": "code",
   "execution_count": 7,
   "metadata": {},
   "outputs": [],
   "source": [
    "#define train and test set size\n",
    "def divide_train_test(X,Y):\n",
    "    m = X.shape[0]\n",
    "    n_train = int(0.8*m)\n",
    "    #prevents rank1 matrix\n",
    "    X = X.reshape(m,1)\n",
    "    Y = Y.reshape(m,1)\n",
    "    #Divide train data and test\n",
    "    X_train = X[:n_train,:]\n",
    "    Y_train = Y[:n_train,:]\n",
    "    X_test = X[n_train:,:]\n",
    "    Y_test = Y[n_train:,:]\n",
    "    return X_train,Y_train,X_test,Y_test"
   ]
  },
  {
   "cell_type": "code",
   "execution_count": 8,
   "metadata": {},
   "outputs": [],
   "source": [
    "X_train, Y_train, X_test, Y_test = divide_train_test(X_shuffle,Y_shuffle)"
   ]
  },
  {
   "cell_type": "code",
   "execution_count": 9,
   "metadata": {},
   "outputs": [
    {
     "name": "stdout",
     "output_type": "stream",
     "text": [
      "X train shape : (320, 1)\n",
      "Y train shape : (320, 1)\n",
      "X test shape : (80, 1)\n",
      "Y test shape : (80, 1)\n"
     ]
    }
   ],
   "source": [
    "#Checking\n",
    "print(\"X train shape : \"+str(X_train.shape))\n",
    "print(\"Y train shape : \"+str(Y_train.shape))\n",
    "print(\"X test shape : \"+str(X_test.shape))\n",
    "print(\"Y test shape : \"+str(Y_test.shape))"
   ]
  },
  {
   "cell_type": "code",
   "execution_count": 10,
   "metadata": {},
   "outputs": [],
   "source": [
    "#define function to convert the labels to one hot vector\n",
    "def convert_to_one_hot(Y, C):\n",
    "    Y = np.eye(C)[Y.reshape(-1)].T\n",
    "    return Y"
   ]
  },
  {
   "cell_type": "code",
   "execution_count": 11,
   "metadata": {},
   "outputs": [],
   "source": [
    "#Convert Y train and Y test to int\n",
    "Y_train = Y_train.astype(float).astype(int)\n",
    "Y_test = Y_test.astype(float).astype(int)\n",
    "\n",
    "#convert Y to one hot vector\n",
    "C = 11\n",
    "Y_train_oh = convert_to_one_hot(Y_train, C)\n",
    "Y_test_oh = convert_to_one_hot(Y_test, C)\n",
    "\n",
    "#transpose the result\n",
    "Y_train_oh = Y_train_oh.T\n",
    "Y_test_oh = Y_test_oh.T"
   ]
  },
  {
   "cell_type": "code",
   "execution_count": 12,
   "metadata": {},
   "outputs": [
    {
     "name": "stdout",
     "output_type": "stream",
     "text": [
      "Y train shape : (320, 11)\n",
      "Y test shape : (80, 11)\n",
      "\n",
      "\n",
      "[3] has converted to one hot [0. 0. 0. 1. 0. 0. 0. 0. 0. 0. 0.]\n"
     ]
    }
   ],
   "source": [
    "#checking the dimension\n",
    "print(\"Y train shape : \"+str(Y_train_oh.shape))\n",
    "print(\"Y test shape : \"+str(Y_test_oh.shape))\n",
    "\n",
    "#example\n",
    "index = 10\n",
    "print(\"\\n\")\n",
    "print(str(Y_train[index])+\" has converted to one hot \"+str(Y_train_oh[index]))"
   ]
  },
  {
   "cell_type": "code",
   "execution_count": 13,
   "metadata": {},
   "outputs": [],
   "source": [
    "#convert X train to list\n",
    "X_train_raveled = X_train.ravel()\n",
    "X_train_list = X_train_raveled.tolist()\n",
    "#Convert X Test to list\n",
    "X_test_raveled = X_train.ravel()\n",
    "X_test_list = X_train_raveled.tolist()"
   ]
  },
  {
   "cell_type": "code",
   "execution_count": 22,
   "metadata": {},
   "outputs": [],
   "source": [
    "#Read Glove Vecs ga usah diubah\n",
    "def read_glove_vecs(glove_file):\n",
    "    with open(glove_file, 'r',encoding=\"utf8\") as f:\n",
    "        words = set()\n",
    "        word_to_vec_map = {}\n",
    "        dictionary = []\n",
    "        for line in f:\n",
    "            line = line.strip().split()\n",
    "            curr_word = line[0]\n",
    "            words.add(curr_word)\n",
    "            word_to_vec_map[curr_word] = np.array(line[1:], dtype=np.float64)\n",
    "            dictionary.append(curr_word)\n",
    "        \n",
    "        \n",
    "        i = 1\n",
    "        words_to_index = {}\n",
    "        index_to_words = {}\n",
    "        for w in sorted(words):\n",
    "            words_to_index[w] = i\n",
    "            index_to_words[i] = w\n",
    "            i = i + 1\n",
    "    return words_to_index, index_to_words, word_to_vec_map, dictionary"
   ]
  },
  {
   "cell_type": "code",
   "execution_count": 23,
   "metadata": {},
   "outputs": [],
   "source": [
    "word_to_index, index_to_word, word_to_vec_map, dictionary = read_glove_vecs('Dataset/glove.6B.50d.txt')"
   ]
  },
  {
   "cell_type": "code",
   "execution_count": 106,
   "metadata": {},
   "outputs": [],
   "source": [
    "def sentence_to_average(sentence, word_to_vec_map, dictionary):\n",
    "    # Step 1: Split sentence into list of lower case words (≈ 1 line)\n",
    "    words =sentence.lower()\n",
    "    words =re.findall(r\"[\\w]+|[^\\s\\w]\",words) #for seperating !,?.' punctutation\n",
    "\n",
    "    # Initialize the average word vector, should have the same shape as your word vectors.\n",
    "    avg = np.zeros((50,))\n",
    "    \n",
    "    # Step 2: average the word vectors. You can loop over the words in the list \"words\".\n",
    "    for w in words:\n",
    "        if w not in dictionary:\n",
    "            avg += word_to_vec_map['unk']\n",
    "        else:\n",
    "            avg += word_to_vec_map[w]\n",
    "    avg = avg / len(words)\n",
    "    \n",
    "    ### END CODE HERE ###\n",
    "    \n",
    "    return avg"
   ]
  },
  {
   "cell_type": "code",
   "execution_count": null,
   "metadata": {},
   "outputs": [],
   "source": []
  }
 ],
 "metadata": {
  "kernelspec": {
   "display_name": "Python 3",
   "language": "python",
   "name": "python3"
  },
  "language_info": {
   "codemirror_mode": {
    "name": "ipython",
    "version": 3
   },
   "file_extension": ".py",
   "mimetype": "text/x-python",
   "name": "python",
   "nbconvert_exporter": "python",
   "pygments_lexer": "ipython3",
   "version": "3.5.2"
  }
 },
 "nbformat": 4,
 "nbformat_minor": 2
}
