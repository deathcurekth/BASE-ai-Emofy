{
 "cells": [
  {
   "cell_type": "code",
   "execution_count": 1,
   "metadata": {},
   "outputs": [],
   "source": [
    "import pandas as pd\n",
    "import numpy as np"
   ]
  },
  {
   "cell_type": "code",
   "execution_count": 2,
   "metadata": {},
   "outputs": [],
   "source": [
    "#define function to load dataset using pandas\n",
    "def load_dataset(path):\n",
    "    data = pd.read_csv(path, header = 0, nrows = m, engine = 'python')\n",
    "    #convert dataset to array\n",
    "    data_array = np.asarray(data)\n",
    "    #seperate the input and labels\n",
    "    X = data_array[:,1]\n",
    "    Y = data_array[:,2]\n",
    "    print(\"Done! loaded {} data\".format(m))\n",
    "    return X,Y"
   ]
  },
  {
   "cell_type": "code",
   "execution_count": 3,
   "metadata": {},
   "outputs": [
    {
     "name": "stdout",
     "output_type": "stream",
     "text": [
      "Done! loaded 400 data\n"
     ]
    }
   ],
   "source": [
    "#load the dataset\n",
    "\n",
    "m = 400 #number of data\n",
    "path = 'Dataset/Emofy_data.csv'\n",
    "\n",
    "X,Y = load_dataset(path)"
   ]
  },
  {
   "cell_type": "code",
   "execution_count": 4,
   "metadata": {},
   "outputs": [
    {
     "name": "stdout",
     "output_type": "stream",
     "text": [
      "X shape : (400, 1)\n",
      "Y shape : (400, 1)\n",
      "Example of an input : ['The food is so delicious']\n"
     ]
    }
   ],
   "source": [
    "#prevents rank 1 matrix\n",
    "X = X.reshape(m,1)\n",
    "Y = Y.reshape(m,1)\n",
    "\n",
    "#Checking the dimension and data\n",
    "print(\"X shape : \"+str(X.shape))\n",
    "print(\"Y shape : \"+str(Y.shape))\n",
    "\n",
    "index = 10\n",
    "print(\"Example of an input : \"+str(X[index]))"
   ]
  },
  {
   "cell_type": "code",
   "execution_count": 5,
   "metadata": {},
   "outputs": [],
   "source": [
    "#define the function to shuffle the X and Y\n",
    "def shuffle(X,Y):\n",
    "    temp = np.hstack((X,Y))\n",
    "    np.random.shuffle(temp)\n",
    "    X = temp[:,0]\n",
    "    Y = temp[:,1]\n",
    "    return X,Y"
   ]
  },
  {
   "cell_type": "code",
   "execution_count": 6,
   "metadata": {},
   "outputs": [],
   "source": [
    "#shuffle X and Y\n",
    "X_shuffle, Y_shuffle = shuffle(X,Y)"
   ]
  },
  {
   "cell_type": "code",
   "execution_count": 7,
   "metadata": {},
   "outputs": [],
   "source": [
    "#define train and test set size\n",
    "def divide_train_test(X,Y):\n",
    "    m = X.shape[0]\n",
    "    n_train = int(0.8*m)\n",
    "    #prevents rank1 matrix\n",
    "    X = X.reshape(m,1)\n",
    "    Y = Y.reshape(m,1)\n",
    "    #Divide train data and test\n",
    "    X_train = X[:n_train,:]\n",
    "    Y_train = Y[:n_train,:]\n",
    "    X_test = X[n_train:,:]\n",
    "    Y_test = Y[n_train:,:]\n",
    "    return X_train,Y_train,X_test,Y_test"
   ]
  },
  {
   "cell_type": "code",
   "execution_count": 8,
   "metadata": {},
   "outputs": [],
   "source": [
    "X_train, Y_train, X_test, Y_test = divide_train_test(X_shuffle,Y_shuffle)"
   ]
  },
  {
   "cell_type": "code",
   "execution_count": 9,
   "metadata": {},
   "outputs": [
    {
     "name": "stdout",
     "output_type": "stream",
     "text": [
      "X train shape : (320, 1)\n",
      "Y train shape : (320, 1)\n",
      "X test shape : (80, 1)\n",
      "Y test shape : (80, 1)\n"
     ]
    }
   ],
   "source": [
    "#Checking\n",
    "print(\"X train shape : \"+str(X_train.shape))\n",
    "print(\"Y train shape : \"+str(Y_train.shape))\n",
    "print(\"X test shape : \"+str(X_test.shape))\n",
    "print(\"Y test shape : \"+str(Y_test.shape))"
   ]
  },
  {
   "cell_type": "code",
   "execution_count": 10,
   "metadata": {},
   "outputs": [],
   "source": [
    "#define function to convert the labels to one hot vector\n",
    "def convert_to_one_hot(Y, C):\n",
    "    Y = np.eye(C)[Y.reshape(-1)].T\n",
    "    return Y"
   ]
  },
  {
   "cell_type": "code",
   "execution_count": 11,
   "metadata": {},
   "outputs": [],
   "source": [
    "#Convert Y train and Y test to int\n",
    "Y_train = Y_train.astype(float).astype(int)\n",
    "Y_test = Y_test.astype(float).astype(int)\n",
    "\n",
    "#convert Y to one hot vector\n",
    "C = 11\n",
    "Y_train_oh = convert_to_one_hot(Y_train, C)\n",
    "Y_test_oh = convert_to_one_hot(Y_test, C)\n",
    "\n",
    "#transpose the result\n",
    "Y_train_oh = Y_train_oh.T\n",
    "Y_test_oh = Y_test_oh.T"
   ]
  },
  {
   "cell_type": "code",
   "execution_count": 12,
   "metadata": {},
   "outputs": [
    {
     "name": "stdout",
     "output_type": "stream",
     "text": [
      "Y train shape : (320, 11)\n",
      "Y test shape : (80, 11)\n",
      "\n",
      "\n",
      "[9] has converted to one hot [0. 0. 0. 0. 0. 0. 0. 0. 0. 1. 0.]\n"
     ]
    }
   ],
   "source": [
    "#checking the dimension\n",
    "print(\"Y train shape : \"+str(Y_train_oh.shape))\n",
    "print(\"Y test shape : \"+str(Y_test_oh.shape))\n",
    "\n",
    "#example\n",
    "index = 10\n",
    "print(\"\\n\")\n",
    "print(str(Y_train[index])+\" has converted to one hot \"+str(Y_train_oh[index]))"
   ]
  },
  {
   "cell_type": "code",
   "execution_count": 16,
   "metadata": {},
   "outputs": [
    {
     "name": "stdout",
     "output_type": "stream",
     "text": [
      "['So scary', 'it was great', 'I am joking', 'My drink got fly in it', 'Well obviously this is a good movie', 'Gonna miss you', 'I am so sick today', 'you are such a joker', 'I feel like I want to cry', \"I'll pray for you\", 'Great job!', 'The cat is so cute', 'Why would  you do that to me?', 'My phone is broken', 'I love noodle', 'I am so frustated', 'I hurt myself', 'get your ass moving', 'Not today', 'the best comedy', 'I want to watch a movie', 'Why is your room always dirty', 'when you come home?', 'you have make my heart smile', 'Lets eat beef!', 'Definitely the best game of the year', 'absolutely hate it', 'that was disgusting', 'I regret for what I have done', \"Don't text me again\", 'its scary', 'Did you just do that?', 'Yummy', 'You are the best', 'He is so handsome', 'I am sad', 'Good job', 'What a cute puppies', 'best drink I ever had', \"Don't say like that\", 'could not get enough of it', 'You are doing great', 'please forgive me', 'that was hilarious', 'I love it', 'I was shocked', 'Poor job', 'I am crying', 'I am so sorry', 'The game storyline is so awful', 'have fun', 'you are the worst', 'I cant think of anything', \"Hi there! How's your day?\", 'I am so desperate', 'Fuck off', \"let's go!\", 'What did you say?', 'Gordon Ramsay is such a great chef', 'Are they okay?', \"Don't be nervous\", 'Are you okay?', 'deep condolesence', 'I am disappointed in you', 'Love you too', 'That backflip is so cool!', 'Sure', 'congrats for you', 'very appetizing', \"My mom's cooking is so good\", 'its disgusting', 'I laugh so hard', \"Why don't you come to my party?\", 'I love it', \"I want to play but my brother didn't let me\", 'Good morning', 'wish you all the best', \"don't worry\", 'she is so hot', 'I have 2 good news and 1 bad news', 'peek a boo', 'hang in there', 'I think so', \"Don't worry\", 'I recommend this game', 'He took my wallet without my permission', 'I want to listen to anime music', 'I was so afraid', \"I Don't feel so good\", 'that was cute', 'good morning guys', 'you are the best', 'look at yourself man', 'on my way', 'I hope everyone comes', \"I'm shocked\", 'Happy anniversary sweetheart', 'GOOD WORK!', 'do not be such a pussy', \"I don't trust you\", \"I don't know\", 'I cant imagine what will he do if he fell', 'I am not confident', 'God bless You!', 'He ran so fast', 'could not hate it enough', 'You jealous', 'You can count on me', 'on the way', 'Liar', 'get well soon', \"Don't be afraid\", 'He feel of his chair', 'lets stay in touch', 'yummy', 'great job', \"I can't laugh anymore\", 'Okay', 'you can do it!', 'do not make me sad', 'I am so happy for you', 'It is so funny', 'nice to meet you', 'I am sick', 'What a guy', 'You are so slow', 'what should I do now?', 'That was unfortunate', 'So yummy', \"Why don't you help her?\", 'that movie was killing it', 'it was gruesome', 'I just finished eating', \"I won't trust you anymore\", 'so cute', 'I am so sad', 'the queue is so long', 'you are the best', 'I have to go right now', 'that was horrible', 'Have you heard about him?', 'what a small world', 'what did you just say', 'love at first sight', 'you are funny', 'I am so thankful', ' my heart is broken', 'Happy valentines day ', 'I am joking', 'Nothing is impossible', 'Who is she?', 'I regret it', 'come on', 'recommended', \"I'm so sad\", 'silence please', 'I like strawberry', 'Poor design', 'Cant take this anymore', 'Most of it are awesome', 'That was great!', 'I don’t know how to do this', 'Most of them are bad', 'I am so in love with you', 'Are you kidding me?', 'I have a present for you', 'completely out of control', 'read by 44 and no one answer?', 'have you watched the nun?', 'so cute', 'I am afraid of him', 'do you have any dinner recommendation? ', 'Are you serious?', 'what is that', 'good game', \"I didn't get invited by her\", 'give me a break', 'that was genius!', 'So delicious', 'He opened my phone', 'The flavor is so unique', 'It was so funny', 'he is so hot', 'disgusting', 'what happened?', 'Listen to me', 'Why do you lie?', 'good for you', 'commended', 'I got a brand new phone', 'would definitely taste it again', 'the food was very delicious', 'nice', 'the best food ive ever eat', 'no no no', 'give you all my support', \"it's my pleasure\", 'The chicken is so juicy', 'stop bugging me', 'love you bae', 'you have broke my heart', 'just super great', 'I am scared', 'you are funny', 'Why don’t you call me earlier?', 'It is my only hope', 'Do you really just broke up with her?', 'That was delicious', 'don’t you think she is cute?', 'I gave up', 'reported', 'so bad', 'what a newbie', 'my heart melt when I saw you', 'Can we be friends?', 'why do you leave me', 'You are so beautiful', \"You don't love me anymore aren't you?\", 'I fell in love', 'Why did you only got 62?', 'WHATT??', 'What are you seeing?', 'oppa', 'trick or treat', 'This cat is so cute', 'My computer got infected by a virus', 'great job', 'Just relaxing', 'I hate you', 'I Don’t like you', 'That was epic!', 'So romantic', 'This is so funny', 'you could have done better', 'it is funny', 'give me a break', 'Nope', 'nice', \"I'm not feeling good\", 'The movie is unpredictable', 'I like the food', 'It is worse', 'all is well', 'hey babe', 'Take it easy', 'Just a little bit more', 'Why am I born in this world', 'you have break my soul', 'take it easy', \"I can't believe what we're seeing\", 'like your style', 'You are perfect', 'goodluck', 'How are you going?', 'you broke my heart', 'I am on my way to your house', 'Im ready', 'you surprised me', 'thank you so much', 'wonderful', 'watch your language', 'This is so hard', 'The house is built so fast', 'I feel like I want to throw up', 'My book is gone', \"I can't believe you cheated on me\", 'I feel good', 'Why are you so unorganized', 'So awesome', ' What a lovely girl', 'I do not like you', \"it's okay now\", 'I feel so heartbroken', 'you think you can fool me?', 'Lol', 'The cat is so fluffy', 'I knew it', 'I like your style', 'Who stole my money?', 'She is so beautiful', 'its the worst movie ever', 'Thank you', 'I am so sorry', 'I am tired', 'Have you done your homework?', 'you making me sad', 'extraordinary', 'Why do you eat that?', 'I feel so useless', ' great work', 'You are not alone', 'I don’t want to think of it', 'He was such a jerk', 'I know you are bad boy', 'Not recommended', 'I just saw ghost', 'thumbs up', 'again??', 'Your performance is very satisfying', 'who broke my laptop?', 'I owe you one', 'Why cant you be anymore useless than that?', 'now you have done it!', 'I am dissapointed', 'No worries', 'Be serious', 'I like you', \"You can't keep a secret\", 'Your dog is so cute', 'My dog died this morning', \"I'm sorry\", 'This is the best food I ever taste', 'I am broken heart', 'I cry with you', 'I love to watch the movie again', 'This is so stupid!', 'Your performance is not as good as in practice', \"Don't talk to me\", 'Did he just do that?', 'It is better']\n"
     ]
    }
   ],
   "source": [
    "#convert X train to list\n",
    "X_train_raveled = X_train.ravel()\n",
    "X_train_list = X_train_raveled.tolist()"
   ]
  },
  {
   "cell_type": "code",
   "execution_count": null,
   "metadata": {},
   "outputs": [],
   "source": []
  }
 ],
 "metadata": {
  "kernelspec": {
   "display_name": "Python 3",
   "language": "python",
   "name": "python3"
  },
  "language_info": {
   "codemirror_mode": {
    "name": "ipython",
    "version": 3
   },
   "file_extension": ".py",
   "mimetype": "text/x-python",
   "name": "python",
   "nbconvert_exporter": "python",
   "pygments_lexer": "ipython3",
   "version": "3.5.2"
  }
 },
 "nbformat": 4,
 "nbformat_minor": 2
}
